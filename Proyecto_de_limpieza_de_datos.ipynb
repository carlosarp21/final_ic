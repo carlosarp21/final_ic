{
  "nbformat": 4,
  "nbformat_minor": 0,
  "metadata": {
    "colab": {
      "name": "Proyecto de limpieza de datos.ipynb",
      "provenance": [],
      "toc_visible": true,
      "authorship_tag": "ABX9TyPjB3pFfhw19/Wi8siB6a7w",
      "include_colab_link": true
    },
    "kernelspec": {
      "name": "python3",
      "display_name": "Python 3"
    },
    "language_info": {
      "name": "python"
    }
  },
  "cells": [
    {
      "cell_type": "markdown",
      "metadata": {
        "id": "view-in-github",
        "colab_type": "text"
      },
      "source": [
        "<a href=\"https://colab.research.google.com/github/carlosarp21/final_ic/blob/dev/Proyecto_de_limpieza_de_datos.ipynb\" target=\"_parent\"><img src=\"https://colab.research.google.com/assets/colab-badge.svg\" alt=\"Open In Colab\"/></a>"
      ]
    },
    {
      "cell_type": "markdown",
      "metadata": {
        "id": "M-J18LAX4lXe"
      },
      "source": [
        "#### INSTRUCCIONES"
      ]
    },
    {
      "cell_type": "markdown",
      "metadata": {
        "id": "97aNvHxf96RJ"
      },
      "source": [
        "##### El archivo adjunto data-1.csv, contiene datos ordenados por fechas de dos variables: $ x1 $ y $ x2 $. De los cuales se sabe que ninguna observación puede ser menor o igual que cero. \n",
        "\n",
        "<br>\n",
        "\n",
        "1. Separe las variables x1 y x2 en columnas diferentes.\n",
        "\n",
        "2. Elija y justifique un método de imputación de datos para los datos perdidos y los datos menores o iguales que cero.\n",
        "\n",
        "3. Encuentre un shapelet de longitud 365 y otro de longitud 1460 para cada variable.\n",
        "\n",
        "4. Siendo el shapelet de 365 el identificador de la clase cero y el shapelet de 1460 el identificador de clase uno. Entrene un Árbol de decisión para clasificar ambas variables y mencione la frecuencia de cada una (En caso de traslape de clases, la clase cero tiene prioridad)."
      ]
    },
    {
      "cell_type": "markdown",
      "metadata": {
        "id": "r-yPqE9W5Ay9"
      },
      "source": [
        "---"
      ]
    },
    {
      "cell_type": "markdown",
      "metadata": {
        "id": "E0gkxCRf5COZ"
      },
      "source": [
        "#### DESARROLLO"
      ]
    },
    {
      "cell_type": "code",
      "metadata": {
        "id": "4UBzRZLr5c4g"
      },
      "source": [
        "import pandas as pd"
      ],
      "execution_count": 1,
      "outputs": []
    },
    {
      "cell_type": "code",
      "metadata": {
        "id": "9tCUpxpi4fOM"
      },
      "source": [
        "# Se inicia con la lectura del archivo\n",
        "df = pd.read_csv('/content/data-1.csv')"
      ],
      "execution_count": 3,
      "outputs": []
    },
    {
      "cell_type": "markdown",
      "metadata": {
        "id": "mqObLCr78QAF"
      },
      "source": [
        "##### Análisis exploratorio de los datos"
      ]
    },
    {
      "cell_type": "code",
      "metadata": {
        "colab": {
          "base_uri": "https://localhost:8080/"
        },
        "id": "nTRTzJ1J6GtS",
        "outputId": "c266e325-4bf8-451e-c235-871ae1f7d417"
      },
      "source": [
        "# Exploración del df\n",
        "df.info()"
      ],
      "execution_count": 13,
      "outputs": [
        {
          "output_type": "stream",
          "text": [
            "<class 'pandas.core.frame.DataFrame'>\n",
            "RangeIndex: 6571 entries, 0 to 6570\n",
            "Data columns (total 3 columns):\n",
            " #   Column  Non-Null Count  Dtype  \n",
            "---  ------  --------------  -----  \n",
            " 0   nombre  6571 non-null   object \n",
            " 1   Fecha   6571 non-null   object \n",
            " 2   data    6362 non-null   float64\n",
            "dtypes: float64(1), object(2)\n",
            "memory usage: 154.1+ KB\n"
          ],
          "name": "stdout"
        }
      ]
    },
    {
      "cell_type": "code",
      "metadata": {
        "colab": {
          "base_uri": "https://localhost:8080/",
          "height": 284
        },
        "id": "GUqv9N586GeX",
        "outputId": "f1db5e75-4cc9-4aa2-89cf-c5d901f83788"
      },
      "source": [
        "# Resumen estadístico\n",
        "df.describe()"
      ],
      "execution_count": 12,
      "outputs": [
        {
          "output_type": "execute_result",
          "data": {
            "text/html": [
              "<div>\n",
              "<style scoped>\n",
              "    .dataframe tbody tr th:only-of-type {\n",
              "        vertical-align: middle;\n",
              "    }\n",
              "\n",
              "    .dataframe tbody tr th {\n",
              "        vertical-align: top;\n",
              "    }\n",
              "\n",
              "    .dataframe thead th {\n",
              "        text-align: right;\n",
              "    }\n",
              "</style>\n",
              "<table border=\"1\" class=\"dataframe\">\n",
              "  <thead>\n",
              "    <tr style=\"text-align: right;\">\n",
              "      <th></th>\n",
              "      <th>data</th>\n",
              "    </tr>\n",
              "  </thead>\n",
              "  <tbody>\n",
              "    <tr>\n",
              "      <th>count</th>\n",
              "      <td>6362.000000</td>\n",
              "    </tr>\n",
              "    <tr>\n",
              "      <th>mean</th>\n",
              "      <td>20.972573</td>\n",
              "    </tr>\n",
              "    <tr>\n",
              "      <th>std</th>\n",
              "      <td>32.232027</td>\n",
              "    </tr>\n",
              "    <tr>\n",
              "      <th>min</th>\n",
              "      <td>-73.790000</td>\n",
              "    </tr>\n",
              "    <tr>\n",
              "      <th>25%</th>\n",
              "      <td>3.400000</td>\n",
              "    </tr>\n",
              "    <tr>\n",
              "      <th>50%</th>\n",
              "      <td>9.440000</td>\n",
              "    </tr>\n",
              "    <tr>\n",
              "      <th>75%</th>\n",
              "      <td>25.600000</td>\n",
              "    </tr>\n",
              "    <tr>\n",
              "      <th>max</th>\n",
              "      <td>299.740000</td>\n",
              "    </tr>\n",
              "  </tbody>\n",
              "</table>\n",
              "</div>"
            ],
            "text/plain": [
              "              data\n",
              "count  6362.000000\n",
              "mean     20.972573\n",
              "std      32.232027\n",
              "min     -73.790000\n",
              "25%       3.400000\n",
              "50%       9.440000\n",
              "75%      25.600000\n",
              "max     299.740000"
            ]
          },
          "metadata": {
            "tags": []
          },
          "execution_count": 12
        }
      ]
    },
    {
      "cell_type": "code",
      "metadata": {
        "colab": {
          "base_uri": "https://localhost:8080/",
          "height": 195
        },
        "id": "Cx_wpthH6OVF",
        "outputId": "bb5408aa-51f5-46f2-c504-1b3523143d6f"
      },
      "source": [
        "# Vista de los primero registros\n",
        "df.head()"
      ],
      "execution_count": 11,
      "outputs": [
        {
          "output_type": "execute_result",
          "data": {
            "text/html": [
              "<div>\n",
              "<style scoped>\n",
              "    .dataframe tbody tr th:only-of-type {\n",
              "        vertical-align: middle;\n",
              "    }\n",
              "\n",
              "    .dataframe tbody tr th {\n",
              "        vertical-align: top;\n",
              "    }\n",
              "\n",
              "    .dataframe thead th {\n",
              "        text-align: right;\n",
              "    }\n",
              "</style>\n",
              "<table border=\"1\" class=\"dataframe\">\n",
              "  <thead>\n",
              "    <tr style=\"text-align: right;\">\n",
              "      <th></th>\n",
              "      <th>nombre</th>\n",
              "      <th>Fecha</th>\n",
              "      <th>data</th>\n",
              "    </tr>\n",
              "  </thead>\n",
              "  <tbody>\n",
              "    <tr>\n",
              "      <th>0</th>\n",
              "      <td>x1</td>\n",
              "      <td>2006-01-01</td>\n",
              "      <td>6.05</td>\n",
              "    </tr>\n",
              "    <tr>\n",
              "      <th>1</th>\n",
              "      <td>x1</td>\n",
              "      <td>2006-01-02</td>\n",
              "      <td>4.72</td>\n",
              "    </tr>\n",
              "    <tr>\n",
              "      <th>2</th>\n",
              "      <td>x1</td>\n",
              "      <td>2006-01-03</td>\n",
              "      <td>4.46</td>\n",
              "    </tr>\n",
              "    <tr>\n",
              "      <th>3</th>\n",
              "      <td>x1</td>\n",
              "      <td>2006-01-04</td>\n",
              "      <td>34.74</td>\n",
              "    </tr>\n",
              "    <tr>\n",
              "      <th>4</th>\n",
              "      <td>x1</td>\n",
              "      <td>2006-01-05</td>\n",
              "      <td>1.91</td>\n",
              "    </tr>\n",
              "  </tbody>\n",
              "</table>\n",
              "</div>"
            ],
            "text/plain": [
              "  nombre       Fecha   data\n",
              "0     x1  2006-01-01   6.05\n",
              "1     x1  2006-01-02   4.72\n",
              "2     x1  2006-01-03   4.46\n",
              "3     x1  2006-01-04  34.74\n",
              "4     x1  2006-01-05   1.91"
            ]
          },
          "metadata": {
            "tags": []
          },
          "execution_count": 11
        }
      ]
    },
    {
      "cell_type": "code",
      "metadata": {
        "colab": {
          "base_uri": "https://localhost:8080/",
          "height": 195
        },
        "id": "ihmGnZu-6P25",
        "outputId": "0bf3fe50-33a1-45a9-a46e-a1b5d3fbba40"
      },
      "source": [
        "# Vista de los últimos registros\n",
        "df.tail()"
      ],
      "execution_count": 7,
      "outputs": [
        {
          "output_type": "execute_result",
          "data": {
            "text/html": [
              "<div>\n",
              "<style scoped>\n",
              "    .dataframe tbody tr th:only-of-type {\n",
              "        vertical-align: middle;\n",
              "    }\n",
              "\n",
              "    .dataframe tbody tr th {\n",
              "        vertical-align: top;\n",
              "    }\n",
              "\n",
              "    .dataframe thead th {\n",
              "        text-align: right;\n",
              "    }\n",
              "</style>\n",
              "<table border=\"1\" class=\"dataframe\">\n",
              "  <thead>\n",
              "    <tr style=\"text-align: right;\">\n",
              "      <th></th>\n",
              "      <th>nombre</th>\n",
              "      <th>Fecha</th>\n",
              "      <th>data</th>\n",
              "    </tr>\n",
              "  </thead>\n",
              "  <tbody>\n",
              "    <tr>\n",
              "      <th>6566</th>\n",
              "      <td>x2</td>\n",
              "      <td>27/12/2014</td>\n",
              "      <td>-13.3</td>\n",
              "    </tr>\n",
              "    <tr>\n",
              "      <th>6567</th>\n",
              "      <td>x2</td>\n",
              "      <td>28/12/2014</td>\n",
              "      <td>16.2</td>\n",
              "    </tr>\n",
              "    <tr>\n",
              "      <th>6568</th>\n",
              "      <td>x2</td>\n",
              "      <td>29/12/2014</td>\n",
              "      <td>5.1</td>\n",
              "    </tr>\n",
              "    <tr>\n",
              "      <th>6569</th>\n",
              "      <td>x2</td>\n",
              "      <td>30/12/2014</td>\n",
              "      <td>4.9</td>\n",
              "    </tr>\n",
              "    <tr>\n",
              "      <th>6570</th>\n",
              "      <td>x2</td>\n",
              "      <td>31/12/2014</td>\n",
              "      <td>3.7</td>\n",
              "    </tr>\n",
              "  </tbody>\n",
              "</table>\n",
              "</div>"
            ],
            "text/plain": [
              "     nombre       Fecha  data\n",
              "6566     x2  27/12/2014 -13.3\n",
              "6567     x2  28/12/2014  16.2\n",
              "6568     x2  29/12/2014   5.1\n",
              "6569     x2  30/12/2014   4.9\n",
              "6570     x2  31/12/2014   3.7"
            ]
          },
          "metadata": {
            "tags": []
          },
          "execution_count": 7
        }
      ]
    },
    {
      "cell_type": "code",
      "metadata": {
        "colab": {
          "base_uri": "https://localhost:8080/",
          "height": 402
        },
        "id": "sXOuGrVM67ff",
        "outputId": "8a561b15-f163-4fa0-c063-60f7e5592a77"
      },
      "source": [
        "# Se observa que se cuenta con 6571 registros, en tres columnas. \n",
        "# En la columna *data* hay valores faltantes.\n",
        "df[df.data.isnull()]"
      ],
      "execution_count": 26,
      "outputs": [
        {
          "output_type": "execute_result",
          "data": {
            "text/html": [
              "<div>\n",
              "<style scoped>\n",
              "    .dataframe tbody tr th:only-of-type {\n",
              "        vertical-align: middle;\n",
              "    }\n",
              "\n",
              "    .dataframe tbody tr th {\n",
              "        vertical-align: top;\n",
              "    }\n",
              "\n",
              "    .dataframe thead th {\n",
              "        text-align: right;\n",
              "    }\n",
              "</style>\n",
              "<table border=\"1\" class=\"dataframe\">\n",
              "  <thead>\n",
              "    <tr style=\"text-align: right;\">\n",
              "      <th></th>\n",
              "      <th>nombre</th>\n",
              "      <th>Fecha</th>\n",
              "      <th>data</th>\n",
              "    </tr>\n",
              "  </thead>\n",
              "  <tbody>\n",
              "    <tr>\n",
              "      <th>3053</th>\n",
              "      <td>x1</td>\n",
              "      <td>2014-05-12</td>\n",
              "      <td>NaN</td>\n",
              "    </tr>\n",
              "    <tr>\n",
              "      <th>3054</th>\n",
              "      <td>x1</td>\n",
              "      <td>2014-05-13</td>\n",
              "      <td>NaN</td>\n",
              "    </tr>\n",
              "    <tr>\n",
              "      <th>3055</th>\n",
              "      <td>x1</td>\n",
              "      <td>2014-05-14</td>\n",
              "      <td>NaN</td>\n",
              "    </tr>\n",
              "    <tr>\n",
              "      <th>3056</th>\n",
              "      <td>x1</td>\n",
              "      <td>2014-05-15</td>\n",
              "      <td>NaN</td>\n",
              "    </tr>\n",
              "    <tr>\n",
              "      <th>3068</th>\n",
              "      <td>x1</td>\n",
              "      <td>2014-05-27</td>\n",
              "      <td>NaN</td>\n",
              "    </tr>\n",
              "    <tr>\n",
              "      <th>...</th>\n",
              "      <td>...</td>\n",
              "      <td>...</td>\n",
              "      <td>...</td>\n",
              "    </tr>\n",
              "    <tr>\n",
              "      <th>5839</th>\n",
              "      <td>x2</td>\n",
              "      <td>27/12/2012</td>\n",
              "      <td>NaN</td>\n",
              "    </tr>\n",
              "    <tr>\n",
              "      <th>5840</th>\n",
              "      <td>x2</td>\n",
              "      <td>28/12/2012</td>\n",
              "      <td>NaN</td>\n",
              "    </tr>\n",
              "    <tr>\n",
              "      <th>5841</th>\n",
              "      <td>x2</td>\n",
              "      <td>29/12/2012</td>\n",
              "      <td>NaN</td>\n",
              "    </tr>\n",
              "    <tr>\n",
              "      <th>5842</th>\n",
              "      <td>x2</td>\n",
              "      <td>30/12/2012</td>\n",
              "      <td>NaN</td>\n",
              "    </tr>\n",
              "    <tr>\n",
              "      <th>5843</th>\n",
              "      <td>x2</td>\n",
              "      <td>31/12/2012</td>\n",
              "      <td>NaN</td>\n",
              "    </tr>\n",
              "  </tbody>\n",
              "</table>\n",
              "<p>209 rows × 3 columns</p>\n",
              "</div>"
            ],
            "text/plain": [
              "     nombre       Fecha  data\n",
              "3053     x1  2014-05-12   NaN\n",
              "3054     x1  2014-05-13   NaN\n",
              "3055     x1  2014-05-14   NaN\n",
              "3056     x1  2014-05-15   NaN\n",
              "3068     x1  2014-05-27   NaN\n",
              "...     ...         ...   ...\n",
              "5839     x2  27/12/2012   NaN\n",
              "5840     x2  28/12/2012   NaN\n",
              "5841     x2  29/12/2012   NaN\n",
              "5842     x2  30/12/2012   NaN\n",
              "5843     x2  31/12/2012   NaN\n",
              "\n",
              "[209 rows x 3 columns]"
            ]
          },
          "metadata": {
            "tags": []
          },
          "execution_count": 26
        }
      ]
    },
    {
      "cell_type": "code",
      "metadata": {
        "colab": {
          "base_uri": "https://localhost:8080/"
        },
        "id": "ctkT8bWL7xj-",
        "outputId": "e29c999f-0a55-4df9-8860-7aaa9a07d21f"
      },
      "source": [
        "# Conteo de valores únicos en cada columna\n",
        "print(df.nombre.nunique(), df.Fecha.nunique(), df.data.nunique())\n",
        "\n",
        "# nombre - 2 valores únicos\n",
        "# fecha - 6571 valores únicos\n",
        "# data - 3450 valores únicos"
      ],
      "execution_count": 30,
      "outputs": [
        {
          "output_type": "stream",
          "text": [
            "2 6571 3450\n"
          ],
          "name": "stdout"
        }
      ]
    },
    {
      "cell_type": "markdown",
      "metadata": {
        "id": "p0DGVwQzIMN6"
      },
      "source": [
        "---"
      ]
    },
    {
      "cell_type": "markdown",
      "metadata": {
        "id": "yHn1MsR9-S8Q"
      },
      "source": [
        "##### 1. Separación de variables."
      ]
    },
    {
      "cell_type": "code",
      "metadata": {
        "id": "xwsHjDVq57Nv"
      },
      "source": [
        "### Se convierte el formato de fechas para tenerlo de manera uniforme\n",
        "fx1 = pd.to_datetime(df['Fecha'], format='%Y-%m-%d', errors='coerce')\n",
        "fx2 = pd.to_datetime(df['Fecha'], format='%d/%m/%Y', errors='coerce')\n",
        "df['Fecha'] = fx1.combine_first(fx2)\n",
        "\n",
        "# Cuando se uniforma el formato de fecha, los valores únicos de esta\n",
        "# columna se reducen de 6571 a 3287 debido a que había fechas comunes\n",
        "# pero que no se detectaban por la diferencia de formato.\n",
        "df.Fecha.value_counts()"
      ],
      "execution_count": 33,
      "outputs": []
    },
    {
      "cell_type": "code",
      "metadata": {
        "id": "c6xDcTAaBDfr"
      },
      "source": [
        "# Separación del df en función del valor de la columna nombre\n",
        "dfx1 = df[df.nombre=='x1']\n",
        "dfx2 = df[df.nombre=='x2']\n",
        "\n",
        "# Merge de los dos df por columna de fecha\n",
        "df2 = pd.merge(dfx1, dfx2, on='Fecha', suffixes=('_x1', '_x2'))\n",
        "\n",
        "# Reorganización del nuevo df2\n",
        "df2 = df2[['Fecha', 'nombre_x1', 'data_x1', 'nombre_x2', 'data_x2']]\n",
        "df2"
      ],
      "execution_count": 61,
      "outputs": []
    },
    {
      "cell_type": "markdown",
      "metadata": {
        "id": "Fk6GEiFJIQ2g"
      },
      "source": [
        "---"
      ]
    },
    {
      "cell_type": "markdown",
      "metadata": {
        "id": "br08CCNfIJfO"
      },
      "source": [
        "##### 2. Inputación de dato."
      ]
    },
    {
      "cell_type": "code",
      "metadata": {
        "colab": {
          "base_uri": "https://localhost:8080/",
          "height": 402
        },
        "id": "F9xHPt3aI8iV",
        "outputId": "e3298e7b-e0a1-4f61-9ea7-f727d8ee48b5"
      },
      "source": [
        "# Búqueda de datos faltantes en x1, el criterio será\n",
        "# valores nulos o valores menores o iguales a cero.\n",
        "df2[(df2.data_x1.isnull()) | (df2.data_x1<= 0)]"
      ],
      "execution_count": 99,
      "outputs": [
        {
          "output_type": "execute_result",
          "data": {
            "text/html": [
              "<div>\n",
              "<style scoped>\n",
              "    .dataframe tbody tr th:only-of-type {\n",
              "        vertical-align: middle;\n",
              "    }\n",
              "\n",
              "    .dataframe tbody tr th {\n",
              "        vertical-align: top;\n",
              "    }\n",
              "\n",
              "    .dataframe thead th {\n",
              "        text-align: right;\n",
              "    }\n",
              "</style>\n",
              "<table border=\"1\" class=\"dataframe\">\n",
              "  <thead>\n",
              "    <tr style=\"text-align: right;\">\n",
              "      <th></th>\n",
              "      <th>Fecha</th>\n",
              "      <th>nombre_x1</th>\n",
              "      <th>data_x1</th>\n",
              "      <th>nombre_x2</th>\n",
              "      <th>data_x2</th>\n",
              "    </tr>\n",
              "  </thead>\n",
              "  <tbody>\n",
              "    <tr>\n",
              "      <th>22</th>\n",
              "      <td>2006-01-23</td>\n",
              "      <td>x1</td>\n",
              "      <td>-3.81</td>\n",
              "      <td>x2</td>\n",
              "      <td>-2.81</td>\n",
              "    </tr>\n",
              "    <tr>\n",
              "      <th>41</th>\n",
              "      <td>2006-02-11</td>\n",
              "      <td>x1</td>\n",
              "      <td>-1.41</td>\n",
              "      <td>x2</td>\n",
              "      <td>8.98</td>\n",
              "    </tr>\n",
              "    <tr>\n",
              "      <th>61</th>\n",
              "      <td>2006-03-03</td>\n",
              "      <td>x1</td>\n",
              "      <td>-1.91</td>\n",
              "      <td>x2</td>\n",
              "      <td>-5.01</td>\n",
              "    </tr>\n",
              "    <tr>\n",
              "      <th>63</th>\n",
              "      <td>2006-03-05</td>\n",
              "      <td>x1</td>\n",
              "      <td>-1.76</td>\n",
              "      <td>x2</td>\n",
              "      <td>6.66</td>\n",
              "    </tr>\n",
              "    <tr>\n",
              "      <th>66</th>\n",
              "      <td>2006-03-08</td>\n",
              "      <td>x1</td>\n",
              "      <td>-0.26</td>\n",
              "      <td>x2</td>\n",
              "      <td>-1.13</td>\n",
              "    </tr>\n",
              "    <tr>\n",
              "      <th>...</th>\n",
              "      <td>...</td>\n",
              "      <td>...</td>\n",
              "      <td>...</td>\n",
              "      <td>...</td>\n",
              "      <td>...</td>\n",
              "    </tr>\n",
              "    <tr>\n",
              "      <th>3243</th>\n",
              "      <td>2014-11-21</td>\n",
              "      <td>x1</td>\n",
              "      <td>NaN</td>\n",
              "      <td>x2</td>\n",
              "      <td>2.80</td>\n",
              "    </tr>\n",
              "    <tr>\n",
              "      <th>3244</th>\n",
              "      <td>2014-11-22</td>\n",
              "      <td>x1</td>\n",
              "      <td>NaN</td>\n",
              "      <td>x2</td>\n",
              "      <td>9.50</td>\n",
              "    </tr>\n",
              "    <tr>\n",
              "      <th>3245</th>\n",
              "      <td>2014-11-23</td>\n",
              "      <td>x1</td>\n",
              "      <td>NaN</td>\n",
              "      <td>x2</td>\n",
              "      <td>6.90</td>\n",
              "    </tr>\n",
              "    <tr>\n",
              "      <th>3253</th>\n",
              "      <td>2014-12-01</td>\n",
              "      <td>x1</td>\n",
              "      <td>NaN</td>\n",
              "      <td>x2</td>\n",
              "      <td>-12.20</td>\n",
              "    </tr>\n",
              "    <tr>\n",
              "      <th>3254</th>\n",
              "      <td>2014-12-02</td>\n",
              "      <td>x1</td>\n",
              "      <td>NaN</td>\n",
              "      <td>x2</td>\n",
              "      <td>10.60</td>\n",
              "    </tr>\n",
              "  </tbody>\n",
              "</table>\n",
              "<p>179 rows × 5 columns</p>\n",
              "</div>"
            ],
            "text/plain": [
              "          Fecha nombre_x1  data_x1 nombre_x2  data_x2\n",
              "22   2006-01-23        x1    -3.81        x2    -2.81\n",
              "41   2006-02-11        x1    -1.41        x2     8.98\n",
              "61   2006-03-03        x1    -1.91        x2    -5.01\n",
              "63   2006-03-05        x1    -1.76        x2     6.66\n",
              "66   2006-03-08        x1    -0.26        x2    -1.13\n",
              "...         ...       ...      ...       ...      ...\n",
              "3243 2014-11-21        x1      NaN        x2     2.80\n",
              "3244 2014-11-22        x1      NaN        x2     9.50\n",
              "3245 2014-11-23        x1      NaN        x2     6.90\n",
              "3253 2014-12-01        x1      NaN        x2   -12.20\n",
              "3254 2014-12-02        x1      NaN        x2    10.60\n",
              "\n",
              "[179 rows x 5 columns]"
            ]
          },
          "metadata": {
            "tags": []
          },
          "execution_count": 99
        }
      ]
    },
    {
      "cell_type": "code",
      "metadata": {
        "colab": {
          "base_uri": "https://localhost:8080/",
          "height": 402
        },
        "id": "rB0WYvu5Jixj",
        "outputId": "188f399b-e6b4-451a-b575-aa111f4595f5"
      },
      "source": [
        "# Aplicando el mismo criterio para los valores de x2.\n",
        "df2[(df2.data_x2.isnull()) | (df2.data_x2<= 0)]"
      ],
      "execution_count": 100,
      "outputs": [
        {
          "output_type": "execute_result",
          "data": {
            "text/html": [
              "<div>\n",
              "<style scoped>\n",
              "    .dataframe tbody tr th:only-of-type {\n",
              "        vertical-align: middle;\n",
              "    }\n",
              "\n",
              "    .dataframe tbody tr th {\n",
              "        vertical-align: top;\n",
              "    }\n",
              "\n",
              "    .dataframe thead th {\n",
              "        text-align: right;\n",
              "    }\n",
              "</style>\n",
              "<table border=\"1\" class=\"dataframe\">\n",
              "  <thead>\n",
              "    <tr style=\"text-align: right;\">\n",
              "      <th></th>\n",
              "      <th>Fecha</th>\n",
              "      <th>nombre_x1</th>\n",
              "      <th>data_x1</th>\n",
              "      <th>nombre_x2</th>\n",
              "      <th>data_x2</th>\n",
              "    </tr>\n",
              "  </thead>\n",
              "  <tbody>\n",
              "    <tr>\n",
              "      <th>1</th>\n",
              "      <td>2006-01-02</td>\n",
              "      <td>x1</td>\n",
              "      <td>4.72</td>\n",
              "      <td>x2</td>\n",
              "      <td>-13.57</td>\n",
              "    </tr>\n",
              "    <tr>\n",
              "      <th>8</th>\n",
              "      <td>2006-01-09</td>\n",
              "      <td>x1</td>\n",
              "      <td>13.90</td>\n",
              "      <td>x2</td>\n",
              "      <td>-4.86</td>\n",
              "    </tr>\n",
              "    <tr>\n",
              "      <th>12</th>\n",
              "      <td>2006-01-13</td>\n",
              "      <td>x1</td>\n",
              "      <td>13.21</td>\n",
              "      <td>x2</td>\n",
              "      <td>-0.90</td>\n",
              "    </tr>\n",
              "    <tr>\n",
              "      <th>15</th>\n",
              "      <td>2006-01-16</td>\n",
              "      <td>x1</td>\n",
              "      <td>9.77</td>\n",
              "      <td>x2</td>\n",
              "      <td>-1.30</td>\n",
              "    </tr>\n",
              "    <tr>\n",
              "      <th>22</th>\n",
              "      <td>2006-01-23</td>\n",
              "      <td>x1</td>\n",
              "      <td>-3.81</td>\n",
              "      <td>x2</td>\n",
              "      <td>-2.81</td>\n",
              "    </tr>\n",
              "    <tr>\n",
              "      <th>...</th>\n",
              "      <td>...</td>\n",
              "      <td>...</td>\n",
              "      <td>...</td>\n",
              "      <td>...</td>\n",
              "      <td>...</td>\n",
              "    </tr>\n",
              "    <tr>\n",
              "      <th>3266</th>\n",
              "      <td>2014-12-14</td>\n",
              "      <td>x1</td>\n",
              "      <td>19.12</td>\n",
              "      <td>x2</td>\n",
              "      <td>-0.70</td>\n",
              "    </tr>\n",
              "    <tr>\n",
              "      <th>3267</th>\n",
              "      <td>2014-12-15</td>\n",
              "      <td>x1</td>\n",
              "      <td>28.92</td>\n",
              "      <td>x2</td>\n",
              "      <td>-14.00</td>\n",
              "    </tr>\n",
              "    <tr>\n",
              "      <th>3269</th>\n",
              "      <td>2014-12-17</td>\n",
              "      <td>x1</td>\n",
              "      <td>19.37</td>\n",
              "      <td>x2</td>\n",
              "      <td>-2.40</td>\n",
              "    </tr>\n",
              "    <tr>\n",
              "      <th>3274</th>\n",
              "      <td>2014-12-22</td>\n",
              "      <td>x1</td>\n",
              "      <td>12.12</td>\n",
              "      <td>x2</td>\n",
              "      <td>-19.60</td>\n",
              "    </tr>\n",
              "    <tr>\n",
              "      <th>3279</th>\n",
              "      <td>2014-12-27</td>\n",
              "      <td>x1</td>\n",
              "      <td>13.16</td>\n",
              "      <td>x2</td>\n",
              "      <td>-13.30</td>\n",
              "    </tr>\n",
              "  </tbody>\n",
              "</table>\n",
              "<p>714 rows × 5 columns</p>\n",
              "</div>"
            ],
            "text/plain": [
              "          Fecha nombre_x1  data_x1 nombre_x2  data_x2\n",
              "1    2006-01-02        x1     4.72        x2   -13.57\n",
              "8    2006-01-09        x1    13.90        x2    -4.86\n",
              "12   2006-01-13        x1    13.21        x2    -0.90\n",
              "15   2006-01-16        x1     9.77        x2    -1.30\n",
              "22   2006-01-23        x1    -3.81        x2    -2.81\n",
              "...         ...       ...      ...       ...      ...\n",
              "3266 2014-12-14        x1    19.12        x2    -0.70\n",
              "3267 2014-12-15        x1    28.92        x2   -14.00\n",
              "3269 2014-12-17        x1    19.37        x2    -2.40\n",
              "3274 2014-12-22        x1    12.12        x2   -19.60\n",
              "3279 2014-12-27        x1    13.16        x2   -13.30\n",
              "\n",
              "[714 rows x 5 columns]"
            ]
          },
          "metadata": {
            "tags": []
          },
          "execution_count": 100
        }
      ]
    },
    {
      "cell_type": "code",
      "metadata": {
        "id": "CfGMEktaJFyC"
      },
      "source": [
        ""
      ],
      "execution_count": null,
      "outputs": []
    }
  ]
}